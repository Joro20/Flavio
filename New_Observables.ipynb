{
 "cells": [
  {
   "cell_type": "markdown",
   "metadata": {},
   "source": [
    "# New Observables"
   ]
  },
  {
   "cell_type": "code",
   "execution_count": 31,
   "metadata": {},
   "outputs": [
    {
     "name": "stdout",
     "output_type": "stream",
     "text": [
      "loading wilson and flavio\n"
     ]
    }
   ],
   "source": [
    "r\"\"\"Branching ratio for the lepton-flavour violating leptonic decay D^0 -> l l' \"\"\"\n",
    "    ##### branching ratio obtained from  #####                                  \n",
    "import numpy as np \n",
    "print('loading wilson and flavio')\n",
    "from wilson import Wilson\n",
    "import flavio\n",
    "from flavio.classes import Parameter, Observable, Prediction\n",
    "from flavio.classes import AuxiliaryQuantity\n",
    "from flavio.physics.running import running\n",
    "from flavio.physics.ddecays.dplnu import prefactor, get_ff\n",
    "from flavio.physics.bdecays.wilsoncoefficients import get_wceff_fccc\n",
    "from flavio.physics.bdecays.wilsoncoefficients import get_wceff, get_wceff_lfv, wctot_dict,get_C78eff"
   ]
  },
  {
   "cell_type": "code",
   "execution_count": 33,
   "metadata": {},
   "outputs": [
    {
     "ename": "NameError",
     "evalue": "name 'D' is not defined",
     "output_type": "error",
     "traceback": [
      "\u001b[1;31m---------------------------------------------------------------------------\u001b[0m",
      "\u001b[1;31mNameError\u001b[0m                                 Traceback (most recent call last)",
      "Cell \u001b[1;32mIn[33], line 69\u001b[0m\n\u001b[0;32m     67\u001b[0m \u001b[38;5;28;01mfor\u001b[39;00m M \u001b[38;5;129;01min\u001b[39;00m _hadr_lfv:\n\u001b[0;32m     68\u001b[0m     \u001b[38;5;28;01mfor\u001b[39;00m (l1,l2) \u001b[38;5;129;01min\u001b[39;00m [(\u001b[38;5;124m'\u001b[39m\u001b[38;5;124me\u001b[39m\u001b[38;5;124m'\u001b[39m,\u001b[38;5;124m'\u001b[39m\u001b[38;5;124mmu\u001b[39m\u001b[38;5;124m'\u001b[39m), (\u001b[38;5;124m'\u001b[39m\u001b[38;5;124mmu\u001b[39m\u001b[38;5;124m'\u001b[39m,\u001b[38;5;124m'\u001b[39m\u001b[38;5;124me\u001b[39m\u001b[38;5;124m'\u001b[39m), (\u001b[38;5;124m'\u001b[39m\u001b[38;5;124me\u001b[39m\u001b[38;5;124m'\u001b[39m,\u001b[38;5;124m'\u001b[39m\u001b[38;5;124mtau\u001b[39m\u001b[38;5;124m'\u001b[39m), (\u001b[38;5;124m'\u001b[39m\u001b[38;5;124mtau\u001b[39m\u001b[38;5;124m'\u001b[39m,\u001b[38;5;124m'\u001b[39m\u001b[38;5;124me\u001b[39m\u001b[38;5;124m'\u001b[39m), (\u001b[38;5;124m'\u001b[39m\u001b[38;5;124mmu\u001b[39m\u001b[38;5;124m'\u001b[39m,\u001b[38;5;124m'\u001b[39m\u001b[38;5;124mtau\u001b[39m\u001b[38;5;124m'\u001b[39m), (\u001b[38;5;124m'\u001b[39m\u001b[38;5;124mtau\u001b[39m\u001b[38;5;124m'\u001b[39m,\u001b[38;5;124m'\u001b[39m\u001b[38;5;124mmu\u001b[39m\u001b[38;5;124m'\u001b[39m)]:\n\u001b[1;32m---> 69\u001b[0m         _obs_name \u001b[38;5;241m=\u001b[39m \u001b[43m_define_obs_D_l1l2\u001b[49m\u001b[43m(\u001b[49m\u001b[43mM\u001b[49m\u001b[43m,\u001b[49m\u001b[43m \u001b[49m\u001b[43m(\u001b[49m\u001b[43ml1\u001b[49m\u001b[43m,\u001b[49m\u001b[43ml2\u001b[49m\u001b[43m)\u001b[49m\u001b[43m)\u001b[49m\n\u001b[0;32m     70\u001b[0m         Prediction(_obs_name, Dl1l2_br_func(_hadr_lfv[M][\u001b[38;5;124m'\u001b[39m\u001b[38;5;124mD\u001b[39m\u001b[38;5;124m'\u001b[39m], _hadr_lfv[M][\u001b[38;5;124m'\u001b[39m\u001b[38;5;124mP\u001b[39m\u001b[38;5;124m'\u001b[39m],l1, l2))\n",
      "Cell \u001b[1;32mIn[33], line 64\u001b[0m, in \u001b[0;36m_define_obs_D_l1l2\u001b[1;34m(M, ll)\u001b[0m\n\u001b[0;32m     62\u001b[0m \u001b[38;5;28;01mdef\u001b[39;00m \u001b[38;5;21m_define_obs_D_l1l2\u001b[39m(M, ll):\n\u001b[0;32m     63\u001b[0m     _process_taxonomy \u001b[38;5;241m=\u001b[39m \u001b[38;5;124mr\u001b[39m\u001b[38;5;124m'\u001b[39m\u001b[38;5;124mProcess :: $c$ hadron decays :: Semi-leptonic lepton-flavor violating decays :: $D\u001b[39m\u001b[38;5;124m\\\u001b[39m\u001b[38;5;124mto P\u001b[39m\u001b[38;5;124m\\\u001b[39m\u001b[38;5;124mell_i^+\u001b[39m\u001b[38;5;124m\\\u001b[39m\u001b[38;5;124mell_j^-$\u001b[39m\u001b[38;5;124m'\u001b[39m\n\u001b[1;32m---> 64\u001b[0m     _obs_name \u001b[38;5;241m=\u001b[39m \u001b[38;5;124m\"\u001b[39m\u001b[38;5;124mBR(\u001b[39m\u001b[38;5;124m\"\u001b[39m\u001b[38;5;241m+\u001b[39m_hadr[\u001b[43mD\u001b[49m][\u001b[38;5;124m'\u001b[39m\u001b[38;5;124mP\u001b[39m\u001b[38;5;124m'\u001b[39m]\u001b[38;5;241m+\u001b[39m\u001b[38;5;124m\"\u001b[39m\u001b[38;5;124m->\u001b[39m\u001b[38;5;124m\"\u001b[39m\u001b[38;5;241m+\u001b[39m\u001b[38;5;124m'\u001b[39m\u001b[38;5;124m'\u001b[39m\u001b[38;5;241m.\u001b[39mjoin(ll)\u001b[38;5;241m+\u001b[39m\u001b[38;5;124m\"\u001b[39m\u001b[38;5;124m)\u001b[39m\u001b[38;5;124m\"\u001b[39m\n\u001b[0;32m     65\u001b[0m     \u001b[38;5;28;01mreturn\u001b[39;00m _obs_name\n",
      "\u001b[1;31mNameError\u001b[0m: name 'D' is not defined"
     ]
    }
   ],
   "source": [
    "meson_quark = {\n",
    "('D+','K+'): 'cu',\n",
    "('Ds','pi+'): 'cu',\n",
    "}\n",
    "\n",
    "def get_D0lfv1(wc_obj,par,D,P,l1,l2,scale):\n",
    "     # renormalization scale\n",
    "    scale = flavio.config['renormalization scale'][P]\n",
    "    wc_sector={('e','e') : \"dF=0\", ('mu','mu'): \"dF=0\", ('tau','tau'): \"dF=0\", ('e','mu') : 'mue',  ('mu','e') :'mue', ('e','tau') : 'taue', ('tau','e') : 'taue', ('mu','tau') : 'mutau', ('tau','mu') : 'mutau'}\n",
    "    wc = wc_obj.get_wc(wc_sector[(l1,l2)], scale, par)\n",
    "    wc_eff = get_wceff_lfv(q2, wc, par, B, P, l1, l2, scale)\n",
    "    label = meson_quark[(D,P)] + l1 + l2 # e.g. cuemu, cutaue\n",
    "    # Parameters\n",
    "    GF = par['GF']\n",
    "    ml1 = par['m_'+l1]\n",
    "    ml2 = par['m_'+l2]\n",
    "    mq1 = par['m_'+q1]\n",
    "    mq2 = par['m_'+q2]\n",
    "    qiqj= meson_quark[(D,P)]\n",
    "    mP = par['m_'+P]   \n",
    "    fP = par['f_'+P]   \n",
    "    y2 = ml2/mP\n",
    "    tauP = par['tau_'+P] \n",
    "#    qq=meson_quark[P]\n",
    "    a = -j/4*(fP) (wc['CVLL_'+qiqj+l1+l2]-wc['CVLR_'+qiqj+l1+l2])\n",
    "    b = -j/4*(fP) (wc['CVRL_'+qiqj+l1+l2]-wc['CVRR_'+qiqj+l1+l2])\n",
    "    c =  j/4*(mP^2*fP/(mq1+mq2)) (wc['CSLL_'+qiqj+l1+l2]-wc['CSLR_'+qiqj+l1+l2])\n",
    "    d =  j/4*(mP^2*fP/(mq1+mq2)) (wc['CSRL_'+qiqj+l1+l2]-wc['CSRR_'+qiqj+l1+l2])\n",
    "    F1 =  (mP*fP*y2/2) ((a+b)+mP^2*GF(c+d))\n",
    "    F2 =  j*(mP*fP*y2/2) ((a+b)+mP^2*GF(c-d))\n",
    "    return F1,F2\n",
    "        \n",
    "def prefactor(wc_obj, par,P):\n",
    "    return  tauP*mP/(8.*np.pi) * ((1-y2)^2*2)                            \n",
    "                                                      \n",
    "def Br_D0l1l2(wc_obj, par,P, l1,l2):  \n",
    "    F1,F2 = get_D0lfv1(wc_obj,par,P,l1,l2)\n",
    "    return prefactor * ( abs(F1)**2 + abs(F2)**2 )\n",
    "\n",
    "# Observable and Prediction instances\n",
    "_hadr_lfv = {\n",
    "'D+->K': {'tex': r\"D^+\\to K^+\", 'D': 'D+', 'P': 'K+', },\n",
    "#'D0->K': {'tex': r\"D^0\\to K^- \", 'D': 'D0', 'P': 'K+', },\n",
    "'D+->pi': {'tex': r\"D^+\\to \\pi^+\", 'D': 'D+', 'P': 'pi+', },\n",
    "#'D0->pi': {'tex': r\"D^0\\to \\pi^- \", 'D': 'D0', 'P': 'pi+', },\n",
    "}\n",
    "\n",
    "_tex = {'emu': r'e^+\\mu^-', 'mue': r'\\mu^+e^-',\n",
    "    'taue': r'\\tau^+e^-', 'etau': r'e^+\\tau^-',\n",
    "    'taumu': r'\\tau^+\\mu^-', 'mutau': r'\\mu^+\\tau^-',\n",
    "    'emu,mue': r'e^\\pm\\mu^\\mp', 'etau,taue': r'e^\\pm\\tau^\\mp','mutau,taumu': r'\\mu^\\pm\\tau^\\mp',\n",
    "    'mue,emu': r'e^\\pm\\mu^\\mp', 'taue,etau': r'e^\\pm\\tau^\\mp','taumu,mutau': r'\\mu^\\pm\\tau^\\mp'\n",
    "    }\n",
    "\n",
    "def Dl1l2_br_func(D,P, l1, l2):\n",
    "    def fct(wc_obj, par):\n",
    "        mB = par['m_'+D]\n",
    "        mP = par['m_'+P]\n",
    "        return Br_D0l1l2(wc_obj, par, P, l1, l2)\n",
    "    return fct\n",
    "\n",
    "def _define_obs_D_l1l2(M, ll):\n",
    "    _process_taxonomy = r'Process :: $c$ hadron decays :: Semi-leptonic lepton-flavor violating decays :: $D\\to P\\ell_i^+\\ell_j^-$'\n",
    "    _obs_name = \"BR(\"+_hadr[D]['P']+\"->\"+''.join(ll)+\")\"\n",
    "    return _obs_name \n",
    "\n",
    "for M in _hadr_lfv:\n",
    "    for (l1,l2) in [('e','mu'), ('mu','e'), ('e','tau'), ('tau','e'), ('mu','tau'), ('tau','mu')]:\n",
    "        _obs_name = _define_obs_D_l1l2(M, (l1,l2))\n",
    "        Prediction(_obs_name, Dl1l2_br_func(_hadr_lfv[M]['D'], _hadr_lfv[M]['P'],l1, l2))"
   ]
  },
  {
   "cell_type": "code",
   "execution_count": null,
   "metadata": {},
   "outputs": [],
   "source": []
  }
 ],
 "metadata": {
  "kernelspec": {
   "display_name": "Python 3 (ipykernel)",
   "language": "python",
   "name": "python3"
  },
  "language_info": {
   "codemirror_mode": {
    "name": "ipython",
    "version": 3
   },
   "file_extension": ".py",
   "mimetype": "text/x-python",
   "name": "python",
   "nbconvert_exporter": "python",
   "pygments_lexer": "ipython3",
   "version": "3.12.7"
  }
 },
 "nbformat": 4,
 "nbformat_minor": 4
}
